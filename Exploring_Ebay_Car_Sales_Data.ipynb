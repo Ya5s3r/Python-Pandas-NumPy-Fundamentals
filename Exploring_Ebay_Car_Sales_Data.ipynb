{
 "cells": [
  {
   "cell_type": "markdown",
   "metadata": {},
   "source": [
    "# Analyzing Used Car Listings on eBay Kleinanzeigen\n",
    "\n",
    "We will be working on a dataset of used cars from eBay Kleinanzeigen, a classifieds section of the German eBay website.\n",
    "\n",
    "The dataset was originally scraped and uploaded to Kaggle (https://www.kaggle.com/orgesleka/used-cars-database/data). The version of the dataset we are working with is a sample of 50,000 data points that was prepared by Dataquest including simulating a less-cleaned version of the data.\n",
    "\n",
    "The data dictionary provided with data is as follows:\n",
    "\n",
    "dateCrawled - When this ad was first crawled. All field-values are taken from this date.\n",
    "name - Name of the car.\n",
    "seller - Whether the seller is private or a dealer.\n",
    "offerType - The type of listing\n",
    "price - The price on the ad to sell the car.\n",
    "abtest - Whether the listing is included in an A/B test.\n",
    "vehicleType - The vehicle Type.\n",
    "yearOfRegistration - The year in which which year the car was first registered.\n",
    "gearbox - The transmission type.\n",
    "powerPS - The power of the car in PS.\n",
    "model - The car model name.\n",
    "kilometer - How many kilometers the car has driven.\n",
    "monthOfRegistration - The month in which which year the car was first registered.\n",
    "fuelType - What type of fuel the car uses.\n",
    "brand - The brand of the car.\n",
    "notRepairedDamage - If the car has a damage which is not yet repaired.\n",
    "dateCreated - The date on which the eBay listing was created.\n",
    "nrOfPictures - The number of pictures in the ad.\n",
    "postalCode - The postal code for the location of the vehicle.\n",
    "lastSeenOnline - When the crawler saw this ad last online.\n",
    "\n",
    "The aim of this project is to clean the data and analyse the included used car listings.\n"
   ]
  },
  {
   "cell_type": "code",
   "execution_count": 1,
   "metadata": {},
   "outputs": [],
   "source": [
    "import pandas as pd\n",
    "import numpy as np"
   ]
  },
  {
   "cell_type": "code",
   "execution_count": 2,
   "metadata": {},
   "outputs": [],
   "source": [
    "autos = pd.read_csv(\"autos.csv\", encoding = \"Latin-1\")"
   ]
  },
  {
   "cell_type": "code",
   "execution_count": 3,
   "metadata": {},
   "outputs": [
    {
     "output_type": "execute_result",
     "data": {
      "text/plain": "               dateCrawled                                               name  \\\n0      2016-03-26 17:47:46                   Peugeot_807_160_NAVTECH_ON_BOARD   \n1      2016-04-04 13:38:56         BMW_740i_4_4_Liter_HAMANN_UMBAU_Mega_Optik   \n2      2016-03-26 18:57:24                         Volkswagen_Golf_1.6_United   \n3      2016-03-12 16:58:10  Smart_smart_fortwo_coupe_softouch/F1/Klima/Pan...   \n4      2016-04-01 14:38:50  Ford_Focus_1_6_Benzin_TÜV_neu_ist_sehr_gepfleg...   \n...                    ...                                                ...   \n49995  2016-03-27 14:38:19   Audi_Q5_3.0_TDI_qu._S_tr.__Navi__Panorama__Xenon   \n49996  2016-03-28 10:50:25  Opel_Astra_F_Cabrio_Bertone_Edition___TÜV_neu+...   \n49997  2016-04-02 14:44:48                     Fiat_500_C_1.2_Dualogic_Lounge   \n49998  2016-03-08 19:25:42                 Audi_A3_2.0_TDI_Sportback_Ambition   \n49999  2016-03-14 00:42:12                                Opel_Vectra_1.6_16V   \n\n       seller offerType    price   abtest vehicleType  yearOfRegistration  \\\n0      privat   Angebot   $5,000  control         bus                2004   \n1      privat   Angebot   $8,500  control   limousine                1997   \n2      privat   Angebot   $8,990     test   limousine                2009   \n3      privat   Angebot   $4,350  control  kleinwagen                2007   \n4      privat   Angebot   $1,350     test       kombi                2003   \n...       ...       ...      ...      ...         ...                 ...   \n49995  privat   Angebot  $24,900  control   limousine                2011   \n49996  privat   Angebot   $1,980  control      cabrio                1996   \n49997  privat   Angebot  $13,200     test      cabrio                2014   \n49998  privat   Angebot  $22,900  control       kombi                2013   \n49999  privat   Angebot   $1,250  control   limousine                1996   \n\n         gearbox  powerPS   model   odometer  monthOfRegistration fuelType  \\\n0        manuell      158  andere  150,000km                    3      lpg   \n1      automatik      286     7er  150,000km                    6   benzin   \n2        manuell      102    golf   70,000km                    7   benzin   \n3      automatik       71  fortwo   70,000km                    6   benzin   \n4        manuell        0   focus  150,000km                    7   benzin   \n...          ...      ...     ...        ...                  ...      ...   \n49995  automatik      239      q5  100,000km                    1   diesel   \n49996    manuell       75   astra  150,000km                    5   benzin   \n49997  automatik       69     500    5,000km                   11   benzin   \n49998    manuell      150      a3   40,000km                   11   diesel   \n49999    manuell      101  vectra  150,000km                    1   benzin   \n\n            brand notRepairedDamage          dateCreated  nrOfPictures  \\\n0         peugeot              nein  2016-03-26 00:00:00             0   \n1             bmw              nein  2016-04-04 00:00:00             0   \n2      volkswagen              nein  2016-03-26 00:00:00             0   \n3           smart              nein  2016-03-12 00:00:00             0   \n4            ford              nein  2016-04-01 00:00:00             0   \n...           ...               ...                  ...           ...   \n49995        audi              nein  2016-03-27 00:00:00             0   \n49996        opel              nein  2016-03-28 00:00:00             0   \n49997        fiat              nein  2016-04-02 00:00:00             0   \n49998        audi              nein  2016-03-08 00:00:00             0   \n49999        opel              nein  2016-03-13 00:00:00             0   \n\n       postalCode             lastSeen  \n0           79588  2016-04-06 06:45:54  \n1           71034  2016-04-06 14:45:08  \n2           35394  2016-04-06 20:15:37  \n3           33729  2016-03-15 03:16:28  \n4           39218  2016-04-01 14:38:50  \n...           ...                  ...  \n49995       82131  2016-04-01 13:47:40  \n49996       44807  2016-04-02 14:18:02  \n49997       73430  2016-04-04 11:47:27  \n49998       35683  2016-04-05 16:45:07  \n49999       45897  2016-04-06 21:18:48  \n\n[50000 rows x 20 columns]",
      "text/html": "<div>\n<style scoped>\n    .dataframe tbody tr th:only-of-type {\n        vertical-align: middle;\n    }\n\n    .dataframe tbody tr th {\n        vertical-align: top;\n    }\n\n    .dataframe thead th {\n        text-align: right;\n    }\n</style>\n<table border=\"1\" class=\"dataframe\">\n  <thead>\n    <tr style=\"text-align: right;\">\n      <th></th>\n      <th>dateCrawled</th>\n      <th>name</th>\n      <th>seller</th>\n      <th>offerType</th>\n      <th>price</th>\n      <th>abtest</th>\n      <th>vehicleType</th>\n      <th>yearOfRegistration</th>\n      <th>gearbox</th>\n      <th>powerPS</th>\n      <th>model</th>\n      <th>odometer</th>\n      <th>monthOfRegistration</th>\n      <th>fuelType</th>\n      <th>brand</th>\n      <th>notRepairedDamage</th>\n      <th>dateCreated</th>\n      <th>nrOfPictures</th>\n      <th>postalCode</th>\n      <th>lastSeen</th>\n    </tr>\n  </thead>\n  <tbody>\n    <tr>\n      <th>0</th>\n      <td>2016-03-26 17:47:46</td>\n      <td>Peugeot_807_160_NAVTECH_ON_BOARD</td>\n      <td>privat</td>\n      <td>Angebot</td>\n      <td>$5,000</td>\n      <td>control</td>\n      <td>bus</td>\n      <td>2004</td>\n      <td>manuell</td>\n      <td>158</td>\n      <td>andere</td>\n      <td>150,000km</td>\n      <td>3</td>\n      <td>lpg</td>\n      <td>peugeot</td>\n      <td>nein</td>\n      <td>2016-03-26 00:00:00</td>\n      <td>0</td>\n      <td>79588</td>\n      <td>2016-04-06 06:45:54</td>\n    </tr>\n    <tr>\n      <th>1</th>\n      <td>2016-04-04 13:38:56</td>\n      <td>BMW_740i_4_4_Liter_HAMANN_UMBAU_Mega_Optik</td>\n      <td>privat</td>\n      <td>Angebot</td>\n      <td>$8,500</td>\n      <td>control</td>\n      <td>limousine</td>\n      <td>1997</td>\n      <td>automatik</td>\n      <td>286</td>\n      <td>7er</td>\n      <td>150,000km</td>\n      <td>6</td>\n      <td>benzin</td>\n      <td>bmw</td>\n      <td>nein</td>\n      <td>2016-04-04 00:00:00</td>\n      <td>0</td>\n      <td>71034</td>\n      <td>2016-04-06 14:45:08</td>\n    </tr>\n    <tr>\n      <th>2</th>\n      <td>2016-03-26 18:57:24</td>\n      <td>Volkswagen_Golf_1.6_United</td>\n      <td>privat</td>\n      <td>Angebot</td>\n      <td>$8,990</td>\n      <td>test</td>\n      <td>limousine</td>\n      <td>2009</td>\n      <td>manuell</td>\n      <td>102</td>\n      <td>golf</td>\n      <td>70,000km</td>\n      <td>7</td>\n      <td>benzin</td>\n      <td>volkswagen</td>\n      <td>nein</td>\n      <td>2016-03-26 00:00:00</td>\n      <td>0</td>\n      <td>35394</td>\n      <td>2016-04-06 20:15:37</td>\n    </tr>\n    <tr>\n      <th>3</th>\n      <td>2016-03-12 16:58:10</td>\n      <td>Smart_smart_fortwo_coupe_softouch/F1/Klima/Pan...</td>\n      <td>privat</td>\n      <td>Angebot</td>\n      <td>$4,350</td>\n      <td>control</td>\n      <td>kleinwagen</td>\n      <td>2007</td>\n      <td>automatik</td>\n      <td>71</td>\n      <td>fortwo</td>\n      <td>70,000km</td>\n      <td>6</td>\n      <td>benzin</td>\n      <td>smart</td>\n      <td>nein</td>\n      <td>2016-03-12 00:00:00</td>\n      <td>0</td>\n      <td>33729</td>\n      <td>2016-03-15 03:16:28</td>\n    </tr>\n    <tr>\n      <th>4</th>\n      <td>2016-04-01 14:38:50</td>\n      <td>Ford_Focus_1_6_Benzin_TÜV_neu_ist_sehr_gepfleg...</td>\n      <td>privat</td>\n      <td>Angebot</td>\n      <td>$1,350</td>\n      <td>test</td>\n      <td>kombi</td>\n      <td>2003</td>\n      <td>manuell</td>\n      <td>0</td>\n      <td>focus</td>\n      <td>150,000km</td>\n      <td>7</td>\n      <td>benzin</td>\n      <td>ford</td>\n      <td>nein</td>\n      <td>2016-04-01 00:00:00</td>\n      <td>0</td>\n      <td>39218</td>\n      <td>2016-04-01 14:38:50</td>\n    </tr>\n    <tr>\n      <th>...</th>\n      <td>...</td>\n      <td>...</td>\n      <td>...</td>\n      <td>...</td>\n      <td>...</td>\n      <td>...</td>\n      <td>...</td>\n      <td>...</td>\n      <td>...</td>\n      <td>...</td>\n      <td>...</td>\n      <td>...</td>\n      <td>...</td>\n      <td>...</td>\n      <td>...</td>\n      <td>...</td>\n      <td>...</td>\n      <td>...</td>\n      <td>...</td>\n      <td>...</td>\n    </tr>\n    <tr>\n      <th>49995</th>\n      <td>2016-03-27 14:38:19</td>\n      <td>Audi_Q5_3.0_TDI_qu._S_tr.__Navi__Panorama__Xenon</td>\n      <td>privat</td>\n      <td>Angebot</td>\n      <td>$24,900</td>\n      <td>control</td>\n      <td>limousine</td>\n      <td>2011</td>\n      <td>automatik</td>\n      <td>239</td>\n      <td>q5</td>\n      <td>100,000km</td>\n      <td>1</td>\n      <td>diesel</td>\n      <td>audi</td>\n      <td>nein</td>\n      <td>2016-03-27 00:00:00</td>\n      <td>0</td>\n      <td>82131</td>\n      <td>2016-04-01 13:47:40</td>\n    </tr>\n    <tr>\n      <th>49996</th>\n      <td>2016-03-28 10:50:25</td>\n      <td>Opel_Astra_F_Cabrio_Bertone_Edition___TÜV_neu+...</td>\n      <td>privat</td>\n      <td>Angebot</td>\n      <td>$1,980</td>\n      <td>control</td>\n      <td>cabrio</td>\n      <td>1996</td>\n      <td>manuell</td>\n      <td>75</td>\n      <td>astra</td>\n      <td>150,000km</td>\n      <td>5</td>\n      <td>benzin</td>\n      <td>opel</td>\n      <td>nein</td>\n      <td>2016-03-28 00:00:00</td>\n      <td>0</td>\n      <td>44807</td>\n      <td>2016-04-02 14:18:02</td>\n    </tr>\n    <tr>\n      <th>49997</th>\n      <td>2016-04-02 14:44:48</td>\n      <td>Fiat_500_C_1.2_Dualogic_Lounge</td>\n      <td>privat</td>\n      <td>Angebot</td>\n      <td>$13,200</td>\n      <td>test</td>\n      <td>cabrio</td>\n      <td>2014</td>\n      <td>automatik</td>\n      <td>69</td>\n      <td>500</td>\n      <td>5,000km</td>\n      <td>11</td>\n      <td>benzin</td>\n      <td>fiat</td>\n      <td>nein</td>\n      <td>2016-04-02 00:00:00</td>\n      <td>0</td>\n      <td>73430</td>\n      <td>2016-04-04 11:47:27</td>\n    </tr>\n    <tr>\n      <th>49998</th>\n      <td>2016-03-08 19:25:42</td>\n      <td>Audi_A3_2.0_TDI_Sportback_Ambition</td>\n      <td>privat</td>\n      <td>Angebot</td>\n      <td>$22,900</td>\n      <td>control</td>\n      <td>kombi</td>\n      <td>2013</td>\n      <td>manuell</td>\n      <td>150</td>\n      <td>a3</td>\n      <td>40,000km</td>\n      <td>11</td>\n      <td>diesel</td>\n      <td>audi</td>\n      <td>nein</td>\n      <td>2016-03-08 00:00:00</td>\n      <td>0</td>\n      <td>35683</td>\n      <td>2016-04-05 16:45:07</td>\n    </tr>\n    <tr>\n      <th>49999</th>\n      <td>2016-03-14 00:42:12</td>\n      <td>Opel_Vectra_1.6_16V</td>\n      <td>privat</td>\n      <td>Angebot</td>\n      <td>$1,250</td>\n      <td>control</td>\n      <td>limousine</td>\n      <td>1996</td>\n      <td>manuell</td>\n      <td>101</td>\n      <td>vectra</td>\n      <td>150,000km</td>\n      <td>1</td>\n      <td>benzin</td>\n      <td>opel</td>\n      <td>nein</td>\n      <td>2016-03-13 00:00:00</td>\n      <td>0</td>\n      <td>45897</td>\n      <td>2016-04-06 21:18:48</td>\n    </tr>\n  </tbody>\n</table>\n<p>50000 rows × 20 columns</p>\n</div>"
     },
     "metadata": {},
     "execution_count": 3
    }
   ],
   "source": [
    "autos"
   ]
  },
  {
   "cell_type": "code",
   "execution_count": 4,
   "metadata": {
    "tags": []
   },
   "outputs": [
    {
     "output_type": "stream",
     "name": "stdout",
     "text": "<class 'pandas.core.frame.DataFrame'>\nRangeIndex: 50000 entries, 0 to 49999\nData columns (total 20 columns):\n #   Column               Non-Null Count  Dtype \n---  ------               --------------  ----- \n 0   dateCrawled          50000 non-null  object\n 1   name                 50000 non-null  object\n 2   seller               50000 non-null  object\n 3   offerType            50000 non-null  object\n 4   price                50000 non-null  object\n 5   abtest               50000 non-null  object\n 6   vehicleType          44905 non-null  object\n 7   yearOfRegistration   50000 non-null  int64 \n 8   gearbox              47320 non-null  object\n 9   powerPS              50000 non-null  int64 \n 10  model                47242 non-null  object\n 11  odometer             50000 non-null  object\n 12  monthOfRegistration  50000 non-null  int64 \n 13  fuelType             45518 non-null  object\n 14  brand                50000 non-null  object\n 15  notRepairedDamage    40171 non-null  object\n 16  dateCreated          50000 non-null  object\n 17  nrOfPictures         50000 non-null  int64 \n 18  postalCode           50000 non-null  int64 \n 19  lastSeen             50000 non-null  object\ndtypes: int64(5), object(15)\nmemory usage: 4.8+ MB\nNone\n"
    }
   ],
   "source": [
    "print(autos.info())"
   ]
  },
  {
   "cell_type": "markdown",
   "metadata": {},
   "source": [
    "Our dataset contains 20 columns, most of which are stored as strings. There are a few columns with null values, but no columns have more than ~20% null values. There are some columns that contain dates stored as strings.\n",
    "\n",
    "We'll start by cleaning the column names to make the data easier to work with."
   ]
  },
  {
   "cell_type": "markdown",
   "metadata": {},
   "source": [
    "## Clean Columns\n",
    "\n",
    "Here, we will clean the column names to make them more readable. We will do the following:\n",
    "\n",
    " - Change the columns from camelcase to snakecase.\n",
    " - Change a few wordings to more accurately describe the columns."
   ]
  },
  {
   "cell_type": "code",
   "execution_count": 5,
   "metadata": {
    "tags": []
   },
   "outputs": [
    {
     "output_type": "stream",
     "name": "stdout",
     "text": "Index(['dateCrawled', 'name', 'seller', 'offerType', 'price', 'abtest',\n       'vehicleType', 'yearOfRegistration', 'gearbox', 'powerPS', 'model',\n       'odometer', 'monthOfRegistration', 'fuelType', 'brand',\n       'notRepairedDamage', 'dateCreated', 'nrOfPictures', 'postalCode',\n       'lastSeen'],\n      dtype='object')\n"
    }
   ],
   "source": [
    "print(autos.columns)"
   ]
  },
  {
   "cell_type": "markdown",
   "metadata": {},
   "source": [
    "We'll make a few changes here:\n",
    "\n",
    "Change the columns from camelcase to snakecase.\n",
    "Change a few wordings to more accurately describe the columns."
   ]
  },
  {
   "cell_type": "code",
   "execution_count": 6,
   "metadata": {},
   "outputs": [
    {
     "output_type": "execute_result",
     "data": {
      "text/plain": "          date_crawled                                               name  \\\n0  2016-03-26 17:47:46                   Peugeot_807_160_NAVTECH_ON_BOARD   \n1  2016-04-04 13:38:56         BMW_740i_4_4_Liter_HAMANN_UMBAU_Mega_Optik   \n2  2016-03-26 18:57:24                         Volkswagen_Golf_1.6_United   \n3  2016-03-12 16:58:10  Smart_smart_fortwo_coupe_softouch/F1/Klima/Pan...   \n4  2016-04-01 14:38:50  Ford_Focus_1_6_Benzin_TÜV_neu_ist_sehr_gepfleg...   \n\n   seller offer_type   price  ab_test vehicle_type  registration_year  \\\n0  privat    Angebot  $5,000  control          bus               2004   \n1  privat    Angebot  $8,500  control    limousine               1997   \n2  privat    Angebot  $8,990     test    limousine               2009   \n3  privat    Angebot  $4,350  control   kleinwagen               2007   \n4  privat    Angebot  $1,350     test        kombi               2003   \n\n     gearbox  power_ps   model   odometer  registration_month fuel_type  \\\n0    manuell       158  andere  150,000km                   3       lpg   \n1  automatik       286     7er  150,000km                   6    benzin   \n2    manuell       102    golf   70,000km                   7    benzin   \n3  automatik        71  fortwo   70,000km                   6    benzin   \n4    manuell         0   focus  150,000km                   7    benzin   \n\n        brand unrepaired_damage           ad_created  num_photos  postal_code  \\\n0     peugeot              nein  2016-03-26 00:00:00           0        79588   \n1         bmw              nein  2016-04-04 00:00:00           0        71034   \n2  volkswagen              nein  2016-03-26 00:00:00           0        35394   \n3       smart              nein  2016-03-12 00:00:00           0        33729   \n4        ford              nein  2016-04-01 00:00:00           0        39218   \n\n             last_seen  \n0  2016-04-06 06:45:54  \n1  2016-04-06 14:45:08  \n2  2016-04-06 20:15:37  \n3  2016-03-15 03:16:28  \n4  2016-04-01 14:38:50  ",
      "text/html": "<div>\n<style scoped>\n    .dataframe tbody tr th:only-of-type {\n        vertical-align: middle;\n    }\n\n    .dataframe tbody tr th {\n        vertical-align: top;\n    }\n\n    .dataframe thead th {\n        text-align: right;\n    }\n</style>\n<table border=\"1\" class=\"dataframe\">\n  <thead>\n    <tr style=\"text-align: right;\">\n      <th></th>\n      <th>date_crawled</th>\n      <th>name</th>\n      <th>seller</th>\n      <th>offer_type</th>\n      <th>price</th>\n      <th>ab_test</th>\n      <th>vehicle_type</th>\n      <th>registration_year</th>\n      <th>gearbox</th>\n      <th>power_ps</th>\n      <th>model</th>\n      <th>odometer</th>\n      <th>registration_month</th>\n      <th>fuel_type</th>\n      <th>brand</th>\n      <th>unrepaired_damage</th>\n      <th>ad_created</th>\n      <th>num_photos</th>\n      <th>postal_code</th>\n      <th>last_seen</th>\n    </tr>\n  </thead>\n  <tbody>\n    <tr>\n      <th>0</th>\n      <td>2016-03-26 17:47:46</td>\n      <td>Peugeot_807_160_NAVTECH_ON_BOARD</td>\n      <td>privat</td>\n      <td>Angebot</td>\n      <td>$5,000</td>\n      <td>control</td>\n      <td>bus</td>\n      <td>2004</td>\n      <td>manuell</td>\n      <td>158</td>\n      <td>andere</td>\n      <td>150,000km</td>\n      <td>3</td>\n      <td>lpg</td>\n      <td>peugeot</td>\n      <td>nein</td>\n      <td>2016-03-26 00:00:00</td>\n      <td>0</td>\n      <td>79588</td>\n      <td>2016-04-06 06:45:54</td>\n    </tr>\n    <tr>\n      <th>1</th>\n      <td>2016-04-04 13:38:56</td>\n      <td>BMW_740i_4_4_Liter_HAMANN_UMBAU_Mega_Optik</td>\n      <td>privat</td>\n      <td>Angebot</td>\n      <td>$8,500</td>\n      <td>control</td>\n      <td>limousine</td>\n      <td>1997</td>\n      <td>automatik</td>\n      <td>286</td>\n      <td>7er</td>\n      <td>150,000km</td>\n      <td>6</td>\n      <td>benzin</td>\n      <td>bmw</td>\n      <td>nein</td>\n      <td>2016-04-04 00:00:00</td>\n      <td>0</td>\n      <td>71034</td>\n      <td>2016-04-06 14:45:08</td>\n    </tr>\n    <tr>\n      <th>2</th>\n      <td>2016-03-26 18:57:24</td>\n      <td>Volkswagen_Golf_1.6_United</td>\n      <td>privat</td>\n      <td>Angebot</td>\n      <td>$8,990</td>\n      <td>test</td>\n      <td>limousine</td>\n      <td>2009</td>\n      <td>manuell</td>\n      <td>102</td>\n      <td>golf</td>\n      <td>70,000km</td>\n      <td>7</td>\n      <td>benzin</td>\n      <td>volkswagen</td>\n      <td>nein</td>\n      <td>2016-03-26 00:00:00</td>\n      <td>0</td>\n      <td>35394</td>\n      <td>2016-04-06 20:15:37</td>\n    </tr>\n    <tr>\n      <th>3</th>\n      <td>2016-03-12 16:58:10</td>\n      <td>Smart_smart_fortwo_coupe_softouch/F1/Klima/Pan...</td>\n      <td>privat</td>\n      <td>Angebot</td>\n      <td>$4,350</td>\n      <td>control</td>\n      <td>kleinwagen</td>\n      <td>2007</td>\n      <td>automatik</td>\n      <td>71</td>\n      <td>fortwo</td>\n      <td>70,000km</td>\n      <td>6</td>\n      <td>benzin</td>\n      <td>smart</td>\n      <td>nein</td>\n      <td>2016-03-12 00:00:00</td>\n      <td>0</td>\n      <td>33729</td>\n      <td>2016-03-15 03:16:28</td>\n    </tr>\n    <tr>\n      <th>4</th>\n      <td>2016-04-01 14:38:50</td>\n      <td>Ford_Focus_1_6_Benzin_TÜV_neu_ist_sehr_gepfleg...</td>\n      <td>privat</td>\n      <td>Angebot</td>\n      <td>$1,350</td>\n      <td>test</td>\n      <td>kombi</td>\n      <td>2003</td>\n      <td>manuell</td>\n      <td>0</td>\n      <td>focus</td>\n      <td>150,000km</td>\n      <td>7</td>\n      <td>benzin</td>\n      <td>ford</td>\n      <td>nein</td>\n      <td>2016-04-01 00:00:00</td>\n      <td>0</td>\n      <td>39218</td>\n      <td>2016-04-01 14:38:50</td>\n    </tr>\n  </tbody>\n</table>\n</div>"
     },
     "metadata": {},
     "execution_count": 6
    }
   ],
   "source": [
    "autos.columns = ['date_crawled', 'name', 'seller', 'offer_type', 'price', 'ab_test',\n",
    "       'vehicle_type', 'registration_year', 'gearbox', 'power_ps', 'model',\n",
    "       'odometer', 'registration_month', 'fuel_type', 'brand',\n",
    "       'unrepaired_damage', 'ad_created', 'num_photos', 'postal_code',\n",
    "       'last_seen']\n",
    "\n",
    "autos.head()"
   ]
  },
  {
   "cell_type": "markdown",
   "metadata": {},
   "source": [
    "## Data Exploration\n",
    "\n",
    "We will now do some additional basic data exploration to determine what other cleaning tasks need doing. We will look for the following:\n",
    " - Text columns where all or almost all values are the same. These can often be dropped as they don't have useful information for analysis. \n",
    " - Examples of numeric data stored as text which can be cleaned and converted."
   ]
  },
  {
   "cell_type": "code",
   "execution_count": 7,
   "metadata": {},
   "outputs": [
    {
     "output_type": "execute_result",
     "data": {
      "text/plain": "               date_crawled         name  seller offer_type  price ab_test  \\\ncount                 50000        50000   50000      50000  50000   50000   \nunique                48213        38754       2          2   2357       2   \ntop     2016-03-05 16:57:05  Ford_Fiesta  privat    Angebot     $0    test   \nfreq                      3           78   49999      49999   1421   25756   \nmean                    NaN          NaN     NaN        NaN    NaN     NaN   \nstd                     NaN          NaN     NaN        NaN    NaN     NaN   \nmin                     NaN          NaN     NaN        NaN    NaN     NaN   \n25%                     NaN          NaN     NaN        NaN    NaN     NaN   \n50%                     NaN          NaN     NaN        NaN    NaN     NaN   \n75%                     NaN          NaN     NaN        NaN    NaN     NaN   \nmax                     NaN          NaN     NaN        NaN    NaN     NaN   \n\n       vehicle_type  registration_year  gearbox      power_ps  model  \\\ncount         44905       50000.000000    47320  50000.000000  47242   \nunique            8                NaN        2           NaN    245   \ntop       limousine                NaN  manuell           NaN   golf   \nfreq          12859                NaN    36993           NaN   4024   \nmean            NaN        2005.073280      NaN    116.355920    NaN   \nstd             NaN         105.712813      NaN    209.216627    NaN   \nmin             NaN        1000.000000      NaN      0.000000    NaN   \n25%             NaN        1999.000000      NaN     70.000000    NaN   \n50%             NaN        2003.000000      NaN    105.000000    NaN   \n75%             NaN        2008.000000      NaN    150.000000    NaN   \nmax             NaN        9999.000000      NaN  17700.000000    NaN   \n\n         odometer  registration_month fuel_type       brand unrepaired_damage  \\\ncount       50000        50000.000000     45518       50000             40171   \nunique         13                 NaN         7          40                 2   \ntop     150,000km                 NaN    benzin  volkswagen              nein   \nfreq        32424                 NaN     30107       10687             35232   \nmean          NaN            5.723360       NaN         NaN               NaN   \nstd           NaN            3.711984       NaN         NaN               NaN   \nmin           NaN            0.000000       NaN         NaN               NaN   \n25%           NaN            3.000000       NaN         NaN               NaN   \n50%           NaN            6.000000       NaN         NaN               NaN   \n75%           NaN            9.000000       NaN         NaN               NaN   \nmax           NaN           12.000000       NaN         NaN               NaN   \n\n                 ad_created  num_photos   postal_code            last_seen  \ncount                 50000     50000.0  50000.000000                50000  \nunique                   76         NaN           NaN                39481  \ntop     2016-04-03 00:00:00         NaN           NaN  2016-04-07 06:17:27  \nfreq                   1946         NaN           NaN                    8  \nmean                    NaN         0.0  50813.627300                  NaN  \nstd                     NaN         0.0  25779.747957                  NaN  \nmin                     NaN         0.0   1067.000000                  NaN  \n25%                     NaN         0.0  30451.000000                  NaN  \n50%                     NaN         0.0  49577.000000                  NaN  \n75%                     NaN         0.0  71540.000000                  NaN  \nmax                     NaN         0.0  99998.000000                  NaN  ",
      "text/html": "<div>\n<style scoped>\n    .dataframe tbody tr th:only-of-type {\n        vertical-align: middle;\n    }\n\n    .dataframe tbody tr th {\n        vertical-align: top;\n    }\n\n    .dataframe thead th {\n        text-align: right;\n    }\n</style>\n<table border=\"1\" class=\"dataframe\">\n  <thead>\n    <tr style=\"text-align: right;\">\n      <th></th>\n      <th>date_crawled</th>\n      <th>name</th>\n      <th>seller</th>\n      <th>offer_type</th>\n      <th>price</th>\n      <th>ab_test</th>\n      <th>vehicle_type</th>\n      <th>registration_year</th>\n      <th>gearbox</th>\n      <th>power_ps</th>\n      <th>model</th>\n      <th>odometer</th>\n      <th>registration_month</th>\n      <th>fuel_type</th>\n      <th>brand</th>\n      <th>unrepaired_damage</th>\n      <th>ad_created</th>\n      <th>num_photos</th>\n      <th>postal_code</th>\n      <th>last_seen</th>\n    </tr>\n  </thead>\n  <tbody>\n    <tr>\n      <th>count</th>\n      <td>50000</td>\n      <td>50000</td>\n      <td>50000</td>\n      <td>50000</td>\n      <td>50000</td>\n      <td>50000</td>\n      <td>44905</td>\n      <td>50000.000000</td>\n      <td>47320</td>\n      <td>50000.000000</td>\n      <td>47242</td>\n      <td>50000</td>\n      <td>50000.000000</td>\n      <td>45518</td>\n      <td>50000</td>\n      <td>40171</td>\n      <td>50000</td>\n      <td>50000.0</td>\n      <td>50000.000000</td>\n      <td>50000</td>\n    </tr>\n    <tr>\n      <th>unique</th>\n      <td>48213</td>\n      <td>38754</td>\n      <td>2</td>\n      <td>2</td>\n      <td>2357</td>\n      <td>2</td>\n      <td>8</td>\n      <td>NaN</td>\n      <td>2</td>\n      <td>NaN</td>\n      <td>245</td>\n      <td>13</td>\n      <td>NaN</td>\n      <td>7</td>\n      <td>40</td>\n      <td>2</td>\n      <td>76</td>\n      <td>NaN</td>\n      <td>NaN</td>\n      <td>39481</td>\n    </tr>\n    <tr>\n      <th>top</th>\n      <td>2016-03-05 16:57:05</td>\n      <td>Ford_Fiesta</td>\n      <td>privat</td>\n      <td>Angebot</td>\n      <td>$0</td>\n      <td>test</td>\n      <td>limousine</td>\n      <td>NaN</td>\n      <td>manuell</td>\n      <td>NaN</td>\n      <td>golf</td>\n      <td>150,000km</td>\n      <td>NaN</td>\n      <td>benzin</td>\n      <td>volkswagen</td>\n      <td>nein</td>\n      <td>2016-04-03 00:00:00</td>\n      <td>NaN</td>\n      <td>NaN</td>\n      <td>2016-04-07 06:17:27</td>\n    </tr>\n    <tr>\n      <th>freq</th>\n      <td>3</td>\n      <td>78</td>\n      <td>49999</td>\n      <td>49999</td>\n      <td>1421</td>\n      <td>25756</td>\n      <td>12859</td>\n      <td>NaN</td>\n      <td>36993</td>\n      <td>NaN</td>\n      <td>4024</td>\n      <td>32424</td>\n      <td>NaN</td>\n      <td>30107</td>\n      <td>10687</td>\n      <td>35232</td>\n      <td>1946</td>\n      <td>NaN</td>\n      <td>NaN</td>\n      <td>8</td>\n    </tr>\n    <tr>\n      <th>mean</th>\n      <td>NaN</td>\n      <td>NaN</td>\n      <td>NaN</td>\n      <td>NaN</td>\n      <td>NaN</td>\n      <td>NaN</td>\n      <td>NaN</td>\n      <td>2005.073280</td>\n      <td>NaN</td>\n      <td>116.355920</td>\n      <td>NaN</td>\n      <td>NaN</td>\n      <td>5.723360</td>\n      <td>NaN</td>\n      <td>NaN</td>\n      <td>NaN</td>\n      <td>NaN</td>\n      <td>0.0</td>\n      <td>50813.627300</td>\n      <td>NaN</td>\n    </tr>\n    <tr>\n      <th>std</th>\n      <td>NaN</td>\n      <td>NaN</td>\n      <td>NaN</td>\n      <td>NaN</td>\n      <td>NaN</td>\n      <td>NaN</td>\n      <td>NaN</td>\n      <td>105.712813</td>\n      <td>NaN</td>\n      <td>209.216627</td>\n      <td>NaN</td>\n      <td>NaN</td>\n      <td>3.711984</td>\n      <td>NaN</td>\n      <td>NaN</td>\n      <td>NaN</td>\n      <td>NaN</td>\n      <td>0.0</td>\n      <td>25779.747957</td>\n      <td>NaN</td>\n    </tr>\n    <tr>\n      <th>min</th>\n      <td>NaN</td>\n      <td>NaN</td>\n      <td>NaN</td>\n      <td>NaN</td>\n      <td>NaN</td>\n      <td>NaN</td>\n      <td>NaN</td>\n      <td>1000.000000</td>\n      <td>NaN</td>\n      <td>0.000000</td>\n      <td>NaN</td>\n      <td>NaN</td>\n      <td>0.000000</td>\n      <td>NaN</td>\n      <td>NaN</td>\n      <td>NaN</td>\n      <td>NaN</td>\n      <td>0.0</td>\n      <td>1067.000000</td>\n      <td>NaN</td>\n    </tr>\n    <tr>\n      <th>25%</th>\n      <td>NaN</td>\n      <td>NaN</td>\n      <td>NaN</td>\n      <td>NaN</td>\n      <td>NaN</td>\n      <td>NaN</td>\n      <td>NaN</td>\n      <td>1999.000000</td>\n      <td>NaN</td>\n      <td>70.000000</td>\n      <td>NaN</td>\n      <td>NaN</td>\n      <td>3.000000</td>\n      <td>NaN</td>\n      <td>NaN</td>\n      <td>NaN</td>\n      <td>NaN</td>\n      <td>0.0</td>\n      <td>30451.000000</td>\n      <td>NaN</td>\n    </tr>\n    <tr>\n      <th>50%</th>\n      <td>NaN</td>\n      <td>NaN</td>\n      <td>NaN</td>\n      <td>NaN</td>\n      <td>NaN</td>\n      <td>NaN</td>\n      <td>NaN</td>\n      <td>2003.000000</td>\n      <td>NaN</td>\n      <td>105.000000</td>\n      <td>NaN</td>\n      <td>NaN</td>\n      <td>6.000000</td>\n      <td>NaN</td>\n      <td>NaN</td>\n      <td>NaN</td>\n      <td>NaN</td>\n      <td>0.0</td>\n      <td>49577.000000</td>\n      <td>NaN</td>\n    </tr>\n    <tr>\n      <th>75%</th>\n      <td>NaN</td>\n      <td>NaN</td>\n      <td>NaN</td>\n      <td>NaN</td>\n      <td>NaN</td>\n      <td>NaN</td>\n      <td>NaN</td>\n      <td>2008.000000</td>\n      <td>NaN</td>\n      <td>150.000000</td>\n      <td>NaN</td>\n      <td>NaN</td>\n      <td>9.000000</td>\n      <td>NaN</td>\n      <td>NaN</td>\n      <td>NaN</td>\n      <td>NaN</td>\n      <td>0.0</td>\n      <td>71540.000000</td>\n      <td>NaN</td>\n    </tr>\n    <tr>\n      <th>max</th>\n      <td>NaN</td>\n      <td>NaN</td>\n      <td>NaN</td>\n      <td>NaN</td>\n      <td>NaN</td>\n      <td>NaN</td>\n      <td>NaN</td>\n      <td>9999.000000</td>\n      <td>NaN</td>\n      <td>17700.000000</td>\n      <td>NaN</td>\n      <td>NaN</td>\n      <td>12.000000</td>\n      <td>NaN</td>\n      <td>NaN</td>\n      <td>NaN</td>\n      <td>NaN</td>\n      <td>0.0</td>\n      <td>99998.000000</td>\n      <td>NaN</td>\n    </tr>\n  </tbody>\n</table>\n</div>"
     },
     "metadata": {},
     "execution_count": 7
    }
   ],
   "source": [
    "autos.describe(include = 'all')"
   ]
  },
  {
   "cell_type": "markdown",
   "metadata": {},
   "source": [
    "Our initial observations:\n",
    "\n",
    "There are a number of text columns where all (or nearly all) of the values are the same:\n",
    " - seller\n",
    " - offer_type\n",
    " \n",
    "The num_photos column looks odd, we'll need to investigate this further."
   ]
  },
  {
   "cell_type": "code",
   "execution_count": 8,
   "metadata": {},
   "outputs": [
    {
     "output_type": "execute_result",
     "data": {
      "text/plain": "0    50000\nName: num_photos, dtype: int64"
     },
     "metadata": {},
     "execution_count": 8
    }
   ],
   "source": [
    "autos[\"num_photos\"].value_counts()"
   ]
  },
  {
   "cell_type": "markdown",
   "metadata": {},
   "source": [
    "As we can see above, the 'num_photos' columns has 0 for every row. We can therefore drop this column, as well as the others noted above."
   ]
  },
  {
   "cell_type": "code",
   "execution_count": 9,
   "metadata": {},
   "outputs": [],
   "source": [
    "autos = autos.drop([\"num_photos\", \"seller\", \"offer_type\"], axis=1)"
   ]
  },
  {
   "cell_type": "markdown",
   "metadata": {},
   "source": [
    "There are two columns, price and odometer, which are numeric values with extra characters being stored as text. We'll clean and convert these."
   ]
  },
  {
   "cell_type": "code",
   "execution_count": 10,
   "metadata": {},
   "outputs": [
    {
     "output_type": "execute_result",
     "data": {
      "text/plain": "0    5000\n1    8500\n2    8990\n3    4350\n4    1350\nName: price, dtype: int32"
     },
     "metadata": {},
     "execution_count": 10
    }
   ],
   "source": [
    "autos[\"price\"] = (autos[\"price\"]\n",
    "                            .str.replace(\"$\", \"\")\n",
    "                            .str.replace(\",\", \"\")\n",
    "                            .astype(int)\n",
    "                            )\n",
    "autos[\"price\"].head()"
   ]
  },
  {
   "cell_type": "code",
   "execution_count": 11,
   "metadata": {},
   "outputs": [
    {
     "output_type": "execute_result",
     "data": {
      "text/plain": "0    150000\n1    150000\n2     70000\n3     70000\n4    150000\nName: odometer_km, dtype: int32"
     },
     "metadata": {},
     "execution_count": 11
    }
   ],
   "source": [
    "# now to clean and covert odometer, pre-clean example: 150,000km\n",
    "\n",
    "autos[\"odometer\"] = (autos[\"odometer\"]\n",
    "                             .str.replace(\"km\",\"\")\n",
    "                             .str.replace(\",\",\"\")\n",
    "                             .astype(int)\n",
    "                             )\n",
    "autos.rename({\"odometer\": \"odometer_km\"}, axis = 1, inplace = True)\n",
    "autos[\"odometer_km\"].head()\n"
   ]
  },
  {
   "cell_type": "markdown",
   "metadata": {},
   "source": [
    "## Exploring Odometer and Price"
   ]
  },
  {
   "cell_type": "markdown",
   "metadata": {},
   "source": [
    "We will continue by exploring the data, specifically looking for anomalous data. We will start by analysing the odometer_km and price columns. We will do the following:\n",
    " - Look for outliers we might want to remove\n",
    " - Use min/max/median/mean etc\n",
    " - Count unique values"
   ]
  },
  {
   "cell_type": "code",
   "execution_count": 12,
   "metadata": {},
   "outputs": [
    {
     "output_type": "execute_result",
     "data": {
      "text/plain": "150000    32424\n125000     5170\n100000     2169\n90000      1757\n80000      1436\n70000      1230\n60000      1164\n50000      1027\n5000        967\n40000       819\n30000       789\n20000       784\n10000       264\nName: odometer_km, dtype: int64"
     },
     "metadata": {},
     "execution_count": 12
    }
   ],
   "source": [
    "# show unique values:\n",
    "autos[\"odometer_km\"].value_counts()"
   ]
  },
  {
   "cell_type": "markdown",
   "metadata": {},
   "source": [
    "We can see that the values in this field are rounded, which might indicate that sellers had to choose from pre-set options for this field. Additionally, there are more high mileage than low mileage vehicles."
   ]
  },
  {
   "cell_type": "code",
   "execution_count": 13,
   "metadata": {
    "tags": []
   },
   "outputs": [
    {
     "output_type": "stream",
     "name": "stdout",
     "text": "(2357,)\ncount    5.000000e+04\nmean     9.840044e+03\nstd      4.811044e+05\nmin      0.000000e+00\n25%      1.100000e+03\n50%      2.950000e+03\n75%      7.200000e+03\nmax      1.000000e+08\nName: price, dtype: float64\n"
    },
    {
     "output_type": "execute_result",
     "data": {
      "text/plain": "0       1421\n500      781\n1500     734\n2500     643\n1000     639\n1200     639\n600      531\n800      498\n3500     498\n2000     460\n999      434\n750      433\n900      420\n650      419\n850      410\n700      395\n4500     394\n300      384\n2200     382\n950      379\nName: price, dtype: int64"
     },
     "metadata": {},
     "execution_count": 13
    }
   ],
   "source": [
    "print(autos[\"price\"].unique().shape) # gives number of unique values in the price field\n",
    "print(autos[\"price\"].describe())\n",
    "autos[\"price\"].value_counts().head(20)"
   ]
  },
  {
   "cell_type": "markdown",
   "metadata": {},
   "source": [
    "There are 1,421 cars listed with $0 price - given that this is only 2% of the of the cars, we might consider removing these rows. The maximum price is one hundred million dollars, which seems a lot, let's look at the highest prices further."
   ]
  },
  {
   "cell_type": "markdown",
   "metadata": {},
   "source": [
    "*Because Series.value_counts() returns a series, we can use Series.sort_index() with ascending= True or False to view the highest and lowest values with their counts (can also chain to head() here)*"
   ]
  },
  {
   "cell_type": "code",
   "execution_count": 14,
   "metadata": {
    "tags": []
   },
   "outputs": [
    {
     "output_type": "execute_result",
     "data": {
      "text/plain": "99999999    1\n27322222    1\n12345678    3\n11111111    2\n10000000    1\n3890000     1\n1300000     1\n1234566     1\n999999      2\n999990      1\n350000      1\n345000      1\n299000      1\n295000      1\n265000      1\n259000      1\n250000      1\n220000      1\n198000      1\n197000      1\nName: price, dtype: int64"
     },
     "metadata": {},
     "execution_count": 14
    }
   ],
   "source": [
    "autos[\"price\"].value_counts().sort_index(ascending = False).head(20)"
   ]
  },
  {
   "cell_type": "code",
   "execution_count": 15,
   "metadata": {},
   "outputs": [
    {
     "output_type": "execute_result",
     "data": {
      "text/plain": "0     1421\n1      156\n2        3\n3        1\n5        2\n8        1\n9        1\n10       7\n11       2\n12       3\n13       2\n14       1\n15       2\n17       3\n18       1\n20       4\n25       5\n29       1\n30       7\n35       1\nName: price, dtype: int64"
     },
     "metadata": {},
     "execution_count": 15
    }
   ],
   "source": [
    "autos[\"price\"].value_counts().sort_index(ascending = True).head(20)"
   ]
  },
  {
   "cell_type": "markdown",
   "metadata": {},
   "source": [
    "There are a number of listings with prices below \\$30, including about 1,500 at \\$0. There are also a small number of listings with very high values, including 14 at around or over $1 million.\n",
    "\n",
    "Given that eBay is an auction site, there could legitimately be items where the opening bid is \\$1. We will keep the \\$1 items, but remove anything above \\$350,000, since it seems that prices increase steadily to that number and then jump up to less realistic numbers."
   ]
  },
  {
   "cell_type": "code",
   "execution_count": 16,
   "metadata": {},
   "outputs": [
    {
     "output_type": "execute_result",
     "data": {
      "text/plain": "count     48565.000000\nmean       5888.935591\nstd        9059.854754\nmin           1.000000\n25%        1200.000000\n50%        3000.000000\n75%        7490.000000\nmax      350000.000000\nName: price, dtype: float64"
     },
     "metadata": {},
     "execution_count": 16
    }
   ],
   "source": [
    "autos = autos[autos[\"price\"].between(1, 351000)] # keep rows with price between these values\n",
    "autos[\"price\"].describe()"
   ]
  },
  {
   "cell_type": "markdown",
   "metadata": {},
   "source": [
    "## Exploring the Date Column"
   ]
  },
  {
   "cell_type": "code",
   "execution_count": 17,
   "metadata": {
    "tags": []
   },
   "outputs": [
    {
     "output_type": "stream",
     "name": "stdout",
     "text": "<class 'pandas.core.frame.DataFrame'>\nInt64Index: 48565 entries, 0 to 49999\nData columns (total 17 columns):\n #   Column              Non-Null Count  Dtype \n---  ------              --------------  ----- \n 0   date_crawled        48565 non-null  object\n 1   name                48565 non-null  object\n 2   price               48565 non-null  int32 \n 3   ab_test             48565 non-null  object\n 4   vehicle_type        43979 non-null  object\n 5   registration_year   48565 non-null  int64 \n 6   gearbox             46222 non-null  object\n 7   power_ps            48565 non-null  int64 \n 8   model               46107 non-null  object\n 9   odometer_km         48565 non-null  int32 \n 10  registration_month  48565 non-null  int64 \n 11  fuel_type           44535 non-null  object\n 12  brand               48565 non-null  object\n 13  unrepaired_damage   39464 non-null  object\n 14  ad_created          48565 non-null  object\n 15  postal_code         48565 non-null  int64 \n 16  last_seen           48565 non-null  object\ndtypes: int32(2), int64(4), object(11)\nmemory usage: 4.3+ MB\n"
    }
   ],
   "source": [
    "# reminder of the dataset structure:\n",
    "autos.info()"
   ]
  },
  {
   "cell_type": "markdown",
   "metadata": {},
   "source": [
    "There are five columns that represent date values.  Some of these columns were created by the crawler, some came from the website itself. We can differentiate by referring to the data dictionary:"
   ]
  },
  {
   "cell_type": "markdown",
   "metadata": {},
   "source": [
    "- `date_crawled`: added by the crawler\n",
    "- `last_seen`: added by the crawler\n",
    "- `ad_created`: from the website\n",
    "- `registration_month`: from the website\n",
    "- `registration_year`: from the website"
   ]
  },
  {
   "cell_type": "markdown",
   "metadata": {},
   "source": [
    "Right now, the date_crawled, last_seen, and ad_created columns are all identified as string values by pandas. Because these three columns are represented as strings, we need to convert the data type.\n",
    "\n",
    "The other two columns are represented as numeric values, so we can use methods like Series.describe() to understand the distribution without any extra data processing.\n",
    "\n",
    "Let's first understand how the values in the three string columns are formatted. These columns all represent full timestamp values:"
   ]
  },
  {
   "cell_type": "code",
   "execution_count": 18,
   "metadata": {},
   "outputs": [
    {
     "output_type": "execute_result",
     "data": {
      "text/plain": "          date_crawled           ad_created            last_seen\n0  2016-03-26 17:47:46  2016-03-26 00:00:00  2016-04-06 06:45:54\n1  2016-04-04 13:38:56  2016-04-04 00:00:00  2016-04-06 14:45:08\n2  2016-03-26 18:57:24  2016-03-26 00:00:00  2016-04-06 20:15:37\n3  2016-03-12 16:58:10  2016-03-12 00:00:00  2016-03-15 03:16:28\n4  2016-04-01 14:38:50  2016-04-01 00:00:00  2016-04-01 14:38:50",
      "text/html": "<div>\n<style scoped>\n    .dataframe tbody tr th:only-of-type {\n        vertical-align: middle;\n    }\n\n    .dataframe tbody tr th {\n        vertical-align: top;\n    }\n\n    .dataframe thead th {\n        text-align: right;\n    }\n</style>\n<table border=\"1\" class=\"dataframe\">\n  <thead>\n    <tr style=\"text-align: right;\">\n      <th></th>\n      <th>date_crawled</th>\n      <th>ad_created</th>\n      <th>last_seen</th>\n    </tr>\n  </thead>\n  <tbody>\n    <tr>\n      <th>0</th>\n      <td>2016-03-26 17:47:46</td>\n      <td>2016-03-26 00:00:00</td>\n      <td>2016-04-06 06:45:54</td>\n    </tr>\n    <tr>\n      <th>1</th>\n      <td>2016-04-04 13:38:56</td>\n      <td>2016-04-04 00:00:00</td>\n      <td>2016-04-06 14:45:08</td>\n    </tr>\n    <tr>\n      <th>2</th>\n      <td>2016-03-26 18:57:24</td>\n      <td>2016-03-26 00:00:00</td>\n      <td>2016-04-06 20:15:37</td>\n    </tr>\n    <tr>\n      <th>3</th>\n      <td>2016-03-12 16:58:10</td>\n      <td>2016-03-12 00:00:00</td>\n      <td>2016-03-15 03:16:28</td>\n    </tr>\n    <tr>\n      <th>4</th>\n      <td>2016-04-01 14:38:50</td>\n      <td>2016-04-01 00:00:00</td>\n      <td>2016-04-01 14:38:50</td>\n    </tr>\n  </tbody>\n</table>\n</div>"
     },
     "metadata": {},
     "execution_count": 18
    }
   ],
   "source": [
    "autos[[\"date_crawled\", \"ad_created\", \"last_seen\"]][0:5]"
   ]
  },
  {
   "cell_type": "markdown",
   "metadata": {},
   "source": [
    "The first 10 characters represent the day (e.g. 2016-03-12). To understand the date range, we can extract just the date values, use Series.value_counts() to generate a distribution, and then sort by the index."
   ]
  },
  {
   "cell_type": "code",
   "execution_count": 19,
   "metadata": {
    "tags": []
   },
   "outputs": [
    {
     "output_type": "stream",
     "name": "stdout",
     "text": "0        2016-03-26\n1        2016-04-04\n2        2016-03-26\n3        2016-03-12\n4        2016-04-01\n            ...    \n49995    2016-03-27\n49996    2016-03-28\n49997    2016-04-02\n49998    2016-03-08\n49999    2016-03-14\nName: date_crawled, Length: 48565, dtype: object\n"
    }
   ],
   "source": [
    "print(autos[\"date_crawled\"].str[:10])"
   ]
  },
  {
   "cell_type": "code",
   "execution_count": 21,
   "metadata": {},
   "outputs": [
    {
     "output_type": "execute_result",
     "data": {
      "text/plain": "2016-03-05    0.025327\n2016-03-06    0.014043\n2016-03-07    0.036014\n2016-03-08    0.033296\n2016-03-09    0.033090\n2016-03-10    0.032184\n2016-03-11    0.032575\n2016-03-12    0.036920\n2016-03-13    0.015670\n2016-03-14    0.036549\n2016-03-15    0.034284\n2016-03-16    0.029610\n2016-03-17    0.031628\n2016-03-18    0.012911\n2016-03-19    0.034778\n2016-03-20    0.037887\n2016-03-21    0.037373\n2016-03-22    0.032987\n2016-03-23    0.032225\n2016-03-24    0.029342\n2016-03-25    0.031607\n2016-03-26    0.032204\n2016-03-27    0.031092\n2016-03-28    0.034860\n2016-03-29    0.034099\n2016-03-30    0.033687\n2016-03-31    0.031834\n2016-04-01    0.033687\n2016-04-02    0.035478\n2016-04-03    0.038608\n2016-04-04    0.036487\n2016-04-05    0.013096\n2016-04-06    0.003171\n2016-04-07    0.001400\nName: date_crawled, dtype: float64"
     },
     "metadata": {},
     "execution_count": 21
    }
   ],
   "source": [
    "# now lets look at the frequency of the dates in the \"date_crawled\" column.\n",
    "\n",
    "(autos[\"date_crawled\"]\n",
    "         .str[:10]\n",
    "         .value_counts(normalize = True, dropna = False)\n",
    "         .sort_index()\n",
    "         )"
   ]
  },
  {
   "cell_type": "code",
   "execution_count": 22,
   "metadata": {},
   "outputs": [
    {
     "output_type": "execute_result",
     "data": {
      "text/plain": "2016-04-07    0.001400\n2016-04-06    0.003171\n2016-03-18    0.012911\n2016-04-05    0.013096\n2016-03-06    0.014043\n2016-03-13    0.015670\n2016-03-05    0.025327\n2016-03-24    0.029342\n2016-03-16    0.029610\n2016-03-27    0.031092\n2016-03-25    0.031607\n2016-03-17    0.031628\n2016-03-31    0.031834\n2016-03-10    0.032184\n2016-03-26    0.032204\n2016-03-23    0.032225\n2016-03-11    0.032575\n2016-03-22    0.032987\n2016-03-09    0.033090\n2016-03-08    0.033296\n2016-04-01    0.033687\n2016-03-30    0.033687\n2016-03-29    0.034099\n2016-03-15    0.034284\n2016-03-19    0.034778\n2016-03-28    0.034860\n2016-04-02    0.035478\n2016-03-07    0.036014\n2016-04-04    0.036487\n2016-03-14    0.036549\n2016-03-12    0.036920\n2016-03-21    0.037373\n2016-03-20    0.037887\n2016-04-03    0.038608\nName: date_crawled, dtype: float64"
     },
     "metadata": {},
     "execution_count": 22
    }
   ],
   "source": [
    "(autos[\"date_crawled\"]\n",
    "        .str[:10]\n",
    "        .value_counts(normalize=True, dropna=False)\n",
    "        .sort_values()\n",
    "        )"
   ]
  },
  {
   "cell_type": "markdown",
   "metadata": {},
   "source": [
    "Looks like the site was crawled daily over roughly a one month period in March and April 2016. The distribution of listings crawled on each day is roughly uniform."
   ]
  },
  {
   "cell_type": "code",
   "execution_count": 23,
   "metadata": {},
   "outputs": [
    {
     "output_type": "execute_result",
     "data": {
      "text/plain": "2016-03-05    0.001071\n2016-03-06    0.004324\n2016-03-07    0.005395\n2016-03-08    0.007413\n2016-03-09    0.009595\n2016-03-10    0.010666\n2016-03-11    0.012375\n2016-03-12    0.023783\n2016-03-13    0.008895\n2016-03-14    0.012602\n2016-03-15    0.015876\n2016-03-16    0.016452\n2016-03-17    0.028086\n2016-03-18    0.007351\n2016-03-19    0.015834\n2016-03-20    0.020653\n2016-03-21    0.020632\n2016-03-22    0.021373\n2016-03-23    0.018532\n2016-03-24    0.019767\n2016-03-25    0.019211\n2016-03-26    0.016802\n2016-03-27    0.015649\n2016-03-28    0.020859\n2016-03-29    0.022341\n2016-03-30    0.024771\n2016-03-31    0.023783\n2016-04-01    0.022794\n2016-04-02    0.024915\n2016-04-03    0.025203\n2016-04-04    0.024483\n2016-04-05    0.124761\n2016-04-06    0.221806\n2016-04-07    0.131947\nName: last_seen, dtype: float64"
     },
     "metadata": {},
     "execution_count": 23
    }
   ],
   "source": [
    "(autos[\"last_seen\"]\n",
    "        .str[:10]\n",
    "        .value_counts(normalize=True, dropna=False)\n",
    "        .sort_index()\n",
    "        )"
   ]
  },
  {
   "cell_type": "markdown",
   "metadata": {},
   "source": [
    "The crawler recorded the date it last saw any listing, which allows us to determine on what day a listing was removed, presumably because the car was sold.\n",
    "\n",
    "The last three days contain a disproportionate amount of 'last seen' values. Given that these are 6-10x the values from the previous days, it's unlikely that there was a massive spike in sales, and more likely that these values are to do with the crawling period ending and don't indicate car sales."
   ]
  },
  {
   "cell_type": "code",
   "execution_count": 24,
   "metadata": {
    "tags": []
   },
   "outputs": [
    {
     "output_type": "stream",
     "name": "stdout",
     "text": "(76,)\n"
    },
    {
     "output_type": "execute_result",
     "data": {
      "text/plain": "2015-06-11    0.000021\n2015-08-10    0.000021\n2015-09-09    0.000021\n2015-11-10    0.000021\n2015-12-05    0.000021\n                ...   \n2016-04-03    0.038855\n2016-04-04    0.036858\n2016-04-05    0.011819\n2016-04-06    0.003253\n2016-04-07    0.001256\nName: ad_created, Length: 76, dtype: float64"
     },
     "metadata": {},
     "execution_count": 24
    }
   ],
   "source": [
    "print(autos[\"ad_created\"].str[:10].unique().shape)\n",
    "(autos[\"ad_created\"]\n",
    "        .str[:10]\n",
    "        .value_counts(normalize=True, dropna=False)\n",
    "        .sort_index()\n",
    "        )"
   ]
  },
  {
   "cell_type": "markdown",
   "metadata": {},
   "source": [
    "There is a large variety of ad created dates. Most fall within 1-2 months of the listing date, but a few are quite old, with the oldest at around 9 months."
   ]
  },
  {
   "cell_type": "code",
   "execution_count": 25,
   "metadata": {},
   "outputs": [
    {
     "output_type": "execute_result",
     "data": {
      "text/plain": "count    48565.000000\nmean      2004.755421\nstd         88.643887\nmin       1000.000000\n25%       1999.000000\n50%       2004.000000\n75%       2008.000000\nmax       9999.000000\nName: registration_year, dtype: float64"
     },
     "metadata": {},
     "execution_count": 25
    }
   ],
   "source": [
    "autos[\"registration_year\"].describe()"
   ]
  },
  {
   "cell_type": "markdown",
   "metadata": {},
   "source": [
    "The year that the car was first registered will likely indicate the age of the car. Looking at this column, we note some odd values. The minimum value is 1000, long before cars were invented and the maximum is 9999, many years into the future."
   ]
  },
  {
   "cell_type": "markdown",
   "metadata": {},
   "source": [
    "## Dealing with Incorrect Registration Year Data\n",
    "\n",
    "Because a car can't be first registered before the listing was seen, any vehicle with a registration year above 2016 is definitely inaccurate. Determining the earliest valid year is more difficult. Realistically, it could be somewhere in the first few decades of the 1900s.\n",
    "\n",
    "One option is to remove the listings with these values. Let's determine what percentage of our data has invalid values in this column:"
   ]
  },
  {
   "cell_type": "code",
   "execution_count": 31,
   "metadata": {},
   "outputs": [
    {
     "output_type": "execute_result",
     "data": {
      "text/plain": "0.038793369710697"
     },
     "metadata": {},
     "execution_count": 31
    }
   ],
   "source": [
    "(~autos[\"registration_year\"].between(1900, 2016)).sum() / autos.shape[0]"
   ]
  },
  {
   "cell_type": "markdown",
   "metadata": {},
   "source": [
    "Given that this is less than 4% of our data, we will remove these rows."
   ]
  },
  {
   "cell_type": "code",
   "execution_count": 32,
   "metadata": {},
   "outputs": [
    {
     "output_type": "execute_result",
     "data": {
      "text/plain": "2000    0.067608\n2005    0.062895\n1999    0.062060\n2004    0.057904\n2003    0.057818\n2006    0.057197\n2001    0.056468\n2002    0.053255\n1998    0.050620\n2007    0.048778\nName: registration_year, dtype: float64"
     },
     "metadata": {},
     "execution_count": 32
    }
   ],
   "source": [
    "# Many ways to select rows in a dataframe that fall within a value range for a column.\n",
    "# Using `Series.between()` is one way.\n",
    "\n",
    "autos = autos[autos[\"registration_year\"].between(1900, 2016)]\n",
    "autos[\"registration_year\"].value_counts(normalize=True).head(10)"
   ]
  },
  {
   "cell_type": "markdown",
   "metadata": {},
   "source": [
    "It appears that most of the vehicles were first registered in the past 20 years."
   ]
  },
  {
   "cell_type": "markdown",
   "metadata": {},
   "source": [
    "## Exploring Price by Band\n",
    "\n",
    "One of the analysis techniques learned in this course is aggregation. When working with data on cars, it's natural to explore variations across different car brands. We can use aggregation to understand the brand column.\n",
    "\n",
    "First, we will explore the unique values in the brand column, and decide on which brands we want to aggregate by."
   ]
  },
  {
   "cell_type": "code",
   "execution_count": 33,
   "metadata": {},
   "outputs": [
    {
     "output_type": "execute_result",
     "data": {
      "text/plain": "volkswagen        0.211264\nbmw               0.110045\nopel              0.107581\nmercedes_benz     0.096463\naudi              0.086566\nford              0.069900\nrenault           0.047150\npeugeot           0.029841\nfiat              0.025642\nseat              0.018273\nskoda             0.016409\nnissan            0.015274\nmazda             0.015188\nsmart             0.014160\ncitroen           0.014010\ntoyota            0.012703\nhyundai           0.010025\nsonstige_autos    0.009811\nvolvo             0.009147\nmini              0.008762\nmitsubishi        0.008226\nhonda             0.007840\nkia               0.007069\nalfa_romeo        0.006641\nporsche           0.006127\nsuzuki            0.005934\nchevrolet         0.005698\nchrysler          0.003513\ndacia             0.002635\ndaihatsu          0.002506\njeep              0.002271\nsubaru            0.002142\nland_rover        0.002099\nsaab              0.001649\njaguar            0.001564\ndaewoo            0.001500\ntrabant           0.001392\nrover             0.001328\nlancia            0.001071\nlada              0.000578\nName: brand, dtype: float64"
     },
     "metadata": {},
     "execution_count": 33
    }
   ],
   "source": [
    "autos[\"brand\"].value_counts(normalize=True)"
   ]
  },
  {
   "cell_type": "markdown",
   "metadata": {},
   "source": [
    "German manufacturers represent four out of the top five brands, almost 50% of the overall listings. Volkswagen is by far the most popular brand, with approximately double the cars for sale of the next two brands combined.\n",
    "\n",
    "There are lots of brands that don't have a significant percentage of listings, so we will limit our analysis to brands representing more than 5% of total listings."
   ]
  },
  {
   "cell_type": "code",
   "execution_count": 35,
   "metadata": {
    "tags": []
   },
   "outputs": [
    {
     "output_type": "stream",
     "name": "stdout",
     "text": "Index(['volkswagen', 'bmw', 'opel', 'mercedes_benz', 'audi', 'ford'], dtype='object')\n"
    }
   ],
   "source": [
    "brand_counts = autos[\"brand\"].value_counts(normalize = True)\n",
    "common_brands = brand_counts[brand_counts > 0.05].index # Series.value_counts() produces a series with index labels, so you can use Series.index attribute to access the labels...\n",
    "print(common_brands)"
   ]
  },
  {
   "cell_type": "code",
   "execution_count": 36,
   "metadata": {},
   "outputs": [
    {
     "output_type": "execute_result",
     "data": {
      "text/plain": "{'volkswagen': 5402,\n 'bmw': 8332,\n 'opel': 2975,\n 'mercedes_benz': 8628,\n 'audi': 9336,\n 'ford': 3749}"
     },
     "metadata": {},
     "execution_count": 36
    }
   ],
   "source": [
    "brand_mean_price = {}\n",
    "\n",
    "for brand in common_brands:\n",
    "    brand_only = autos[autos[\"brand\"] == brand]\n",
    "    mean_price = brand_only[\"price\"].mean()\n",
    "    brand_mean_price[brand] = int(mean_price)\n",
    "\n",
    "brand_mean_price"
   ]
  },
  {
   "cell_type": "markdown",
   "metadata": {},
   "source": [
    "Of the top 5 brands, there is a distinct price gap:\n",
    "\n",
    " - Audi, BMW and Mercedes Benz are more expensive\n",
    " - Ford and Opel are less expensive\n",
    " - Volkswagen is in between - this may explain its popularity, it may be a 'best of 'both worlds' option."
   ]
  },
  {
   "cell_type": "markdown",
   "metadata": {},
   "source": [
    "## Exploring Mileage\n",
    "\n",
    "For the top 6 brands, let's use aggregation to understand the average mileage for those cars and if there's any visible link with mean price.\n",
    "\n",
    "While we can display both aggregated series objects and visually compare them, here we will combine the data from both series objects into a single dataframe (with a shared index) and display the dataframe directly.\n",
    "\n",
    "To do this, we will use two pandas methods:\n",
    "\n",
    " - Pandas series constructor\n",
    " - Pandas dataframe constructor\n",
    "\n",
    "Here's an example of the series constructor that uses the brand_mean_prices dictionary:\n"
   ]
  },
  {
   "cell_type": "code",
   "execution_count": 37,
   "metadata": {},
   "outputs": [
    {
     "output_type": "execute_result",
     "data": {
      "text/plain": "volkswagen       5402\nbmw              8332\nopel             2975\nmercedes_benz    8628\naudi             9336\nford             3749\ndtype: int64"
     },
     "metadata": {},
     "execution_count": 37
    }
   ],
   "source": [
    "bmp_series = pd.Series(brand_mean_price)\n",
    "bmp_series"
   ]
  },
  {
   "cell_type": "markdown",
   "metadata": {},
   "source": [
    "The keys in the dictionary became the index in the series object. We can then create a single-column dataframe from this series object. We need to use the columns parameter when calling the dataframe constructor (which accepts a array-like object) to specify the column name (or the column name will be set to 0 by default):"
   ]
  },
  {
   "cell_type": "code",
   "execution_count": 38,
   "metadata": {},
   "outputs": [
    {
     "output_type": "execute_result",
     "data": {
      "text/plain": "               mean_price\nvolkswagen           5402\nbmw                  8332\nopel                 2975\nmercedes_benz        8628\naudi                 9336\nford                 3749",
      "text/html": "<div>\n<style scoped>\n    .dataframe tbody tr th:only-of-type {\n        vertical-align: middle;\n    }\n\n    .dataframe tbody tr th {\n        vertical-align: top;\n    }\n\n    .dataframe thead th {\n        text-align: right;\n    }\n</style>\n<table border=\"1\" class=\"dataframe\">\n  <thead>\n    <tr style=\"text-align: right;\">\n      <th></th>\n      <th>mean_price</th>\n    </tr>\n  </thead>\n  <tbody>\n    <tr>\n      <th>volkswagen</th>\n      <td>5402</td>\n    </tr>\n    <tr>\n      <th>bmw</th>\n      <td>8332</td>\n    </tr>\n    <tr>\n      <th>opel</th>\n      <td>2975</td>\n    </tr>\n    <tr>\n      <th>mercedes_benz</th>\n      <td>8628</td>\n    </tr>\n    <tr>\n      <th>audi</th>\n      <td>9336</td>\n    </tr>\n    <tr>\n      <th>ford</th>\n      <td>3749</td>\n    </tr>\n  </tbody>\n</table>\n</div>"
     },
     "metadata": {},
     "execution_count": 38
    }
   ],
   "source": [
    "df = pd.DataFrame(bmp_series, columns = [\"mean_price\"])\n",
    "df"
   ]
  },
  {
   "cell_type": "code",
   "execution_count": 41,
   "metadata": {},
   "outputs": [],
   "source": [
    "# calculate the mean mileage and mean price for each of the top brands, storing the results in a dictionary (as already done with price):\n",
    "\n",
    "brand_mean_mileage = {}\n",
    "\n",
    "for brand in common_brands:\n",
    "    brand_only = autos[autos[\"brand\"] == brand]\n",
    "    mean_mileage = brand_only[\"odometer_km\"].mean()\n",
    "    brand_mean_mileage[brand] = int(mean_mileage)\n",
    "\n",
    "mean_mileage = pd.Series(brand_mean_mileage).sort_values(ascending = False)\n",
    "mean_prices = pd.Series(brand_mean_price).sort_values(ascending=False)"
   ]
  },
  {
   "cell_type": "code",
   "execution_count": 42,
   "metadata": {},
   "outputs": [
    {
     "output_type": "execute_result",
     "data": {
      "text/plain": "               mean_mileage\nbmw                  132572\nmercedes_benz        130788\nopel                 129310\naudi                 129157\nvolkswagen           128707\nford                 124266",
      "text/html": "<div>\n<style scoped>\n    .dataframe tbody tr th:only-of-type {\n        vertical-align: middle;\n    }\n\n    .dataframe tbody tr th {\n        vertical-align: top;\n    }\n\n    .dataframe thead th {\n        text-align: right;\n    }\n</style>\n<table border=\"1\" class=\"dataframe\">\n  <thead>\n    <tr style=\"text-align: right;\">\n      <th></th>\n      <th>mean_mileage</th>\n    </tr>\n  </thead>\n  <tbody>\n    <tr>\n      <th>bmw</th>\n      <td>132572</td>\n    </tr>\n    <tr>\n      <th>mercedes_benz</th>\n      <td>130788</td>\n    </tr>\n    <tr>\n      <th>opel</th>\n      <td>129310</td>\n    </tr>\n    <tr>\n      <th>audi</th>\n      <td>129157</td>\n    </tr>\n    <tr>\n      <th>volkswagen</th>\n      <td>128707</td>\n    </tr>\n    <tr>\n      <th>ford</th>\n      <td>124266</td>\n    </tr>\n  </tbody>\n</table>\n</div>"
     },
     "metadata": {},
     "execution_count": 42
    }
   ],
   "source": [
    "brand_info = pd.DataFrame(mean_mileage,columns=['mean_mileage'])\n",
    "brand_info"
   ]
  },
  {
   "cell_type": "code",
   "execution_count": 43,
   "metadata": {},
   "outputs": [
    {
     "output_type": "execute_result",
     "data": {
      "text/plain": "               mean_mileage  mean_price\nbmw                  132572        8332\nmercedes_benz        130788        8628\nopel                 129310        2975\naudi                 129157        9336\nvolkswagen           128707        5402\nford                 124266        3749",
      "text/html": "<div>\n<style scoped>\n    .dataframe tbody tr th:only-of-type {\n        vertical-align: middle;\n    }\n\n    .dataframe tbody tr th {\n        vertical-align: top;\n    }\n\n    .dataframe thead th {\n        text-align: right;\n    }\n</style>\n<table border=\"1\" class=\"dataframe\">\n  <thead>\n    <tr style=\"text-align: right;\">\n      <th></th>\n      <th>mean_mileage</th>\n      <th>mean_price</th>\n    </tr>\n  </thead>\n  <tbody>\n    <tr>\n      <th>bmw</th>\n      <td>132572</td>\n      <td>8332</td>\n    </tr>\n    <tr>\n      <th>mercedes_benz</th>\n      <td>130788</td>\n      <td>8628</td>\n    </tr>\n    <tr>\n      <th>opel</th>\n      <td>129310</td>\n      <td>2975</td>\n    </tr>\n    <tr>\n      <th>audi</th>\n      <td>129157</td>\n      <td>9336</td>\n    </tr>\n    <tr>\n      <th>volkswagen</th>\n      <td>128707</td>\n      <td>5402</td>\n    </tr>\n    <tr>\n      <th>ford</th>\n      <td>124266</td>\n      <td>3749</td>\n    </tr>\n  </tbody>\n</table>\n</div>"
     },
     "metadata": {},
     "execution_count": 43
    }
   ],
   "source": [
    "brand_info[\"mean_price\"] = mean_prices\n",
    "brand_info"
   ]
  },
  {
   "cell_type": "markdown",
   "metadata": {},
   "source": [
    "The range of car mileages does not vary as much as the prices do by brand, instead all falling within 10% for the top brands. There is a slight trend to the more expensive vehicles having higher mileage, with the less expensive vehicles having lower mileage."
   ]
  }
 ],
 "metadata": {
  "language_info": {
   "codemirror_mode": {
    "name": "ipython",
    "version": 3
   },
   "file_extension": ".py",
   "mimetype": "text/x-python",
   "name": "python",
   "nbconvert_exporter": "python",
   "pygments_lexer": "ipython3",
   "version": "3.8.4-final"
  },
  "orig_nbformat": 2,
  "kernelspec": {
   "name": "python38432bit43b2926e61344499be61f1429a6a9cc1",
   "display_name": "Python 3.8.4 32-bit"
  }
 },
 "nbformat": 4,
 "nbformat_minor": 2
}